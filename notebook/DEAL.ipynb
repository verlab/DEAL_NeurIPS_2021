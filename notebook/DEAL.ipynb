{
  "nbformat": 4,
  "nbformat_minor": 0,
  "metadata": {
    "colab": {
      "name": "DEAL.ipynb",
      "private_outputs": true,
      "provenance": [],
      "collapsed_sections": []
    },
    "kernelspec": {
      "name": "python3",
      "display_name": "Python 3"
    },
    "language_info": {
      "name": "python"
    },
    "accelerator": "GPU"
  },
  "cells": [
    {
      "cell_type": "code",
      "metadata": {
        "id": "PCIg0FkFlcWm"
      },
      "source": [
        "!rm -rf DEAL_NeurIPS_2021\n",
        "!git clone https://github.com/verlab/DEAL_NeurIPS_2021.git\n",
        "%cd DEAL_NeurIPS_2021"
      ],
      "execution_count": null,
      "outputs": []
    },
    {
      "cell_type": "code",
      "metadata": {
        "id": "bO-hJqcqrfZT"
      },
      "source": [
        "!pip install opencv-python==4.5.3.56 torch torchvision kornia tqdm matplotlib \n",
        "\n",
        "# Try installing with fixed versions of packages below if you get compatibility issues\n",
        "# --- this is the default versions of packages we have extensively worked with ---\n",
        "#!pip install opencv-python==4.5.3.56 torch==1.6.0 torchvision==0.7.0 kornia==0.4.1 tqdm matplotlib"
      ],
      "execution_count": null,
      "outputs": []
    },
    {
      "cell_type": "code",
      "metadata": {
        "id": "ryJW8WnKrUbQ"
      },
      "source": [
        "import cv2 # opencv to read images and extract keypoints\n",
        "from modules.utils import DEAL #include the modules on your path\n",
        "\n",
        "net_path = 'models/newdata-DEAL-big.pth' # weight path\n",
        "deal = DEAL(net_path, sift = True) # Create the descriptor and load arctecture\n",
        "sift = cv2.SIFT_create(2048)\n",
        "\n",
        "img_path = \"./example/notredame.png\"\n",
        "img = cv2.imread(img_path, cv2.IMREAD_GRAYSCALE)\n",
        "\n",
        "kps = sift.detect(img)\n",
        "print(len(kps))\n",
        "desc = deal.compute(img, kps)\n",
        "\n",
        "print(\"Desc Shape:{}\".format(desc.shape))\n",
        "\n"
      ],
      "execution_count": null,
      "outputs": []
    }
  ]
}